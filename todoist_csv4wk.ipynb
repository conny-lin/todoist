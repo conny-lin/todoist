{
 "cells": [
  {
   "cell_type": "code",
   "execution_count": 112,
   "metadata": {},
   "outputs": [],
   "source": [
    "# manual inputs\n",
    "testing_status = True\n",
    "# set start and end date\n",
    "startdate_string = '2022-08-22'\n",
    "entryduration = 7*6\n",
    "# create new or not\n",
    "update_Todoist = False"
   ]
  },
  {
   "cell_type": "code",
   "execution_count": 50,
   "metadata": {},
   "outputs": [],
   "source": [
    "# import libaries\n",
    "import os\n",
    "import numpy as np\n",
    "import pandas as pd\n",
    "from todoist_api_python.api import TodoistAPI\n",
    "import datetime"
   ]
  },
  {
   "cell_type": "code",
   "execution_count": 51,
   "metadata": {},
   "outputs": [],
   "source": [
    "# api token file name\n",
    "if testing_status:\n",
    "    todoist_token_fname = 'todoist_api_token_test.txt'\n",
    "    fname_inputcsv = 'todoist-python - Routine-test.csv'\n",
    "    fpath_inputcsv = os.path.join(os.getcwd(), fname_inputcsv)\n",
    "else:\n",
    "    todoist_token_fname = 'todoist_api_token.txt'\n",
    "    fname_inputcsv = 'todoist-python - Routines.csv'\n",
    "    fpath_inputcsv = os.path.join(os.getcwd(), fname_inputcsv)"
   ]
  },
  {
   "cell_type": "markdown",
   "metadata": {},
   "source": [
    "# Functions"
   ]
  },
  {
   "cell_type": "code",
   "execution_count": 52,
   "metadata": {},
   "outputs": [],
   "source": [
    "# creat label dictionary\n",
    "def get_label_dict(todoist_api):\n",
    "    api = TodoistAPI(todoist_api)\n",
    "    try:\n",
    "        labels = api.get_labels()\n",
    "    except Exception as error:\n",
    "        print(error)\n",
    "    # label into dictionary\n",
    "    label_dict = {}\n",
    "    for i in range(len(labels)):\n",
    "        label_dict[labels[i].name] = labels[i].id\n",
    "    return label_dict\n",
    "\n",
    "\n",
    "\n",
    "# creat project id dictionary\n",
    "def get_project_dict(todoist_api):\n",
    "    api = TodoistAPI(todoist_api)\n",
    "    try:\n",
    "        a = api.get_projects()\n",
    "    except Exception as error:\n",
    "        print(error)\n",
    "    # label into dictionary\n",
    "    d = {}\n",
    "    for i in range(len(a)):\n",
    "        d[a[i].name] = a[i].id\n",
    "    return d\n",
    "\n",
    "\n",
    "\n",
    "# creat section id dictionary from a project\n",
    "def get_section_dict_pjc(todoist_api, project_id):\n",
    "    api = TodoistAPI(todoist_api)\n",
    "    try:\n",
    "        a = api.get_sections(project_id=project_id)\n",
    "    except Exception as error:\n",
    "        print(error)\n",
    "    # put into dictionary\n",
    "    d = {}\n",
    "    for i in range(len(a)):\n",
    "        d[a[i].name] = a[i].id\n",
    "    return d\n",
    "\n",
    "\n",
    "\n",
    "# creat section id dictionaries\n",
    "def get_section_dict(todoist_api):\n",
    "    api = TodoistAPI(todoist_api)\n",
    "    try:\n",
    "        todoistpull = api.get_sections()\n",
    "    except Exception as error:\n",
    "        print(error)\n",
    "\n",
    "    # put in dictionaries\n",
    "    section_proj_dict = {}\n",
    "    section_name_dict = {}\n",
    "\n",
    "    for i in range(len(todoistpull)):\n",
    "        section_proj_dict[todoistpull[i].id] = todoistpull[i].project_id\n",
    "        section_name_dict[todoistpull[i].name] = todoistpull[i].id\n",
    "    return section_proj_dict, section_name_dict\n",
    "\n",
    "\n",
    "# get task dictionary by name\n",
    "def get_task_dict(todoist_api):\n",
    "    api = TodoistAPI(todoist_api)\n",
    "    try:\n",
    "        todoistpull = api.get_tasks()\n",
    "    except Exception as error:\n",
    "        print(error)\n",
    "\n",
    "    # put in dictionaries\n",
    "    task_dict = {}\n",
    "    for i in range(len(todoistpull)):\n",
    "        task_dict[todoistpull[i].content] = todoistpull[i].id\n",
    "    return task_dict"
   ]
  },
  {
   "cell_type": "code",
   "execution_count": 53,
   "metadata": {},
   "outputs": [],
   "source": [
    "# -- validation --\n",
    "# this represents a list of current limitations\n",
    "def validate_input_fields(todoist_dict, dfcsv):\n",
    "    \n",
    "    # limitation 1: all label, project, sections must pre-exist in Todoist\n",
    "    fieldname_list = ['label','project','section']\n",
    "    for fieldname in fieldname_list:\n",
    "        entry_exist = []\n",
    "        for x in dfcsv[fieldname].tolist():\n",
    "            entry_exist.append(x in todoist_dict[fieldname].keys())\n",
    "        \n",
    "        if all(entry_exist):\n",
    "            print(f'all {fieldname} found in Todoist')\n",
    "        else:\n",
    "            errormsg = f'Some {fieldname} entry does not exist in Todoist. Current code can not accomodate'\n",
    "            raise Exception(errormsg)\n",
    "    \n",
    "    \n",
    "    # limitation 2: only task level 1 can be handled\n",
    "    if dfcsv.order[0] != 1 or any(dfcsv.order > 1):\n",
    "        raise Exception('order number incorrect')\n",
    "\n",
    "    \n",
    "    # limitation 3: freq_offset must be entered, even for children task that uses days_from_parent as date calculations\n",
    "    if any(dfcsv.freq_offset.isna()):\n",
    "        raise Exception('freq_offset field must not be NaN')\n",
    "\n",
    "\n",
    "    # limitation 4: all task must have time assigned\n",
    "    if any(dfcsv.time.isna()):\n",
    "        raise Exception('time field must not be NaN')\n",
    "\n",
    "    # limitation 5: subtask backwards 27 days max\n",
    "    if any(dfcsv.days_from_parent) < -28:\n",
    "        raise Exception('code can not accomodate subtask backwards 27 days')"
   ]
  },
  {
   "cell_type": "code",
   "execution_count": 76,
   "metadata": {},
   "outputs": [],
   "source": [
    "# deal with X weekday of the month\n",
    "# get first month's third thu and next month's third thu and give the one that's after start date and before end date\n",
    "def get_X_weekday_of_month(startdate, enddate, tasknow):\n",
    "    thedate = []\n",
    "    # get the first month's third thu\n",
    "    d1 = pd.to_datetime(startdate) + pd.offsets.MonthBegin(n=-1)\n",
    "    dlist = pd.date_range(d1, enddate, freq=tasknow.freq_offset)\n",
    "    print(dlist)\n",
    "    \n",
    "    if len(dlist) > tasknow.weeknum:\n",
    "        dlist = dlist[tasknow.weeknum-1] # 2 because the first value index is 0\n",
    "        # check if is after start date\n",
    "        if dlist >= startdate:\n",
    "            thedate = dlist\n",
    "    else:\n",
    "        # get the second month's third thu\n",
    "        d2 = pd.to_datetime(startdate) + pd.offsets.MonthBegin(n=1)\n",
    "        dlist = pd.date_range(d2, enddate, freq=tasknow.freq_offset)\n",
    "        dlist = dlist[tasknow.weeknum-1] # 2 because the first value index is 0\n",
    "        if dlist <= enddate:\n",
    "            thedate = dlist\n",
    "        else:\n",
    "            thedate = []\n",
    "            raise Exception('no date within the specified range') \n",
    "    \n",
    "    # thedate = thedate.to_pydatetime()    \n",
    "    \n",
    "    print(thedate)      \n",
    "    return thedate"
   ]
  },
  {
   "cell_type": "code",
   "execution_count": 86,
   "metadata": {},
   "outputs": [],
   "source": [
    "# function: get start date with weekstart offset\n",
    "def weekstart_offset(startdate, weekstart):\n",
    "    startdate_offset = startdate\n",
    "    if weekstart != 0:\n",
    "        startdate_offset = startdate + pd.DateOffset(weekstart)\n",
    "    return startdate_offset"
   ]
  },
  {
   "cell_type": "code",
   "execution_count": 98,
   "metadata": {},
   "outputs": [],
   "source": [
    "# -- create date list from date requirements requirements --\n",
    "# if weeknum is none, then deal with offset and freq normally\n",
    "def get_datelist(startdate, enddate, tasknow):\n",
    "    datelist = []\n",
    "    if tasknow.weeknum != 0:\n",
    "        print('weeknum detected')\n",
    "        # check if has weeknum off set, if yes, then need other calculation\n",
    "        datelist = get_X_weekday_of_month(startdate, enddate, tasknow)\n",
    "    else:\n",
    "        print('weeknum not detected')\n",
    "        startdate_offset = weekstart_offset(startdate, tasknow.weekstart)\n",
    "        datelist = pd.date_range(startdate_offset, \\\n",
    "                    enddate, \\\n",
    "                    freq=tasknow.freq_offset)     \n",
    "    return datelist"
   ]
  },
  {
   "cell_type": "code",
   "execution_count": 80,
   "metadata": {},
   "outputs": [],
   "source": [
    "# -- build recurrent date + time --\n",
    "def build_recurrent_datetime(datelist, tasknow_df,tasknow):\n",
    "    # build date/time string\n",
    "    datetimestr = []\n",
    "    # convert to datetime format\n",
    "    if type(datelist) is datetime.datetime:\n",
    "        datetimestr.append(datelist.strftime(\"%Y-%m-%d\") + ' ' + tasknow.time)\n",
    "    else:\n",
    "        # datelist = datelist.to_pydatetime() # this code causes error\n",
    "        for k in range(len(datelist)):\n",
    "            a = datelist[k].strftime(\"%Y-%m-%d\") + ' ' + tasknow.time\n",
    "            datetimestr.append(a)\n",
    "        \n",
    "    # convert to datetime format\n",
    "    datetimestr = pd.to_datetime(datetimestr)\n",
    "    \n",
    "    # convert to RC3339 format\n",
    "    due_datetime = []\n",
    "    for k in range(len(datetimestr)):\n",
    "        due_datetime.append(datetimestr[k].isoformat('T'))\n",
    "    # interim report \n",
    "    print(f'{len(due_datetime)} dates generated from freq offset \"{tasknow.freq_offset}\"')\n",
    "    # add time series to dataframe\n",
    "    tasknow_df['due_datetime'] = due_datetime\n",
    "    return tasknow_df"
   ]
  },
  {
   "cell_type": "code",
   "execution_count": 57,
   "metadata": {},
   "outputs": [],
   "source": [
    "# add task attributes\n",
    "def add_task_attributes(tasknow, tasknow_df,todoist_dict):\n",
    "    # -- build each task for todoist --\n",
    "    # + duration to content\n",
    "    content = f'{tasknow.content} [{tasknow.duration}m]'\n",
    "    print(f'task name: {content}')\n",
    "    tasknow_df['content'] = content\n",
    "\n",
    "    # -- add the rest of task attributes --\n",
    "    # add priority\n",
    "    tasknow_df['priority'] = tasknow.priority\n",
    "    # get section id\n",
    "    sec_id = todoist_dict['section'][tasknow.section]\n",
    "    # get section id to df\n",
    "    tasknow_df['section_id'] = sec_id\n",
    "    # get project id to df\n",
    "    tasknow_df['project_id'] = todoist_dict['section_project'][sec_id]\n",
    "    # translate label \n",
    "    # <can only take one label at a time, can expand to take multiple later>\n",
    "    tasknow_df['label_ids'] = todoist_dict['label'][tasknow.label]\n",
    "    return tasknow_df\n"
   ]
  },
  {
   "cell_type": "code",
   "execution_count": 58,
   "metadata": {},
   "outputs": [],
   "source": [
    "# create tasks from list to Todoist\n",
    "def create_task_from_tasknow_df(tasknow_df, todoist_api):\n",
    "    for recur_num in range(len(tasknow_df)):\n",
    "        api = TodoistAPI(todoist_api)\n",
    "        try:\n",
    "            task = api.add_task(\n",
    "                    content=tasknow_df.content[recur_num],\n",
    "                    due_lang='en',\n",
    "                    project_id=int(tasknow_df.project_id[recur_num]),\n",
    "                    section_id=int(tasknow_df.section_id[recur_num]),\n",
    "                    due_datetime=tasknow_df.due_datetime[recur_num],\n",
    "                    priority=int(tasknow_df.priority[recur_num]),\n",
    "                    label_ids=[int(tasknow_df.label_ids[recur_num])],\n",
    "            )\n",
    "        except Exception as error:\n",
    "            print(error)"
   ]
  },
  {
   "cell_type": "markdown",
   "metadata": {},
   "source": [
    "Get Todoist API token"
   ]
  },
  {
   "cell_type": "code",
   "execution_count": 106,
   "metadata": {},
   "outputs": [],
   "source": [
    "# log on to todoist\n",
    "with open (todoist_token_fname) as f:\n",
    "    todoist_api = f.readlines()\n",
    "    todoist_api = todoist_api[0]"
   ]
  },
  {
   "cell_type": "code",
   "execution_count": 107,
   "metadata": {},
   "outputs": [],
   "source": [
    "# get todoist data\n",
    "label_dict = get_label_dict(todoist_api)\n",
    "proj_dict = get_project_dict(todoist_api)\n",
    "section_proj_dict, section_name_dict = get_section_dict(todoist_api)\n",
    "\n",
    "# make todoist dictionary\n",
    "todoist_dict = {}\n",
    "todoist_dict['label'] = label_dict\n",
    "todoist_dict['project'] = proj_dict\n",
    "todoist_dict['section'] = section_name_dict\n",
    "todoist_dict['section_project'] = section_proj_dict"
   ]
  },
  {
   "cell_type": "markdown",
   "metadata": {},
   "source": [
    "Code"
   ]
  },
  {
   "cell_type": "code",
   "execution_count": 109,
   "metadata": {},
   "outputs": [
    {
     "data": {
      "text/plain": [
       "10"
      ]
     },
     "execution_count": 109,
     "metadata": {},
     "output_type": "execute_result"
    }
   ],
   "source": [
    "# import csv to deal wtih the data\n",
    "dfcsv = pd.read_csv(fpath_inputcsv)\n",
    "len(dfcsv)"
   ]
  },
  {
   "cell_type": "code",
   "execution_count": 110,
   "metadata": {},
   "outputs": [
    {
     "name": "stdout",
     "output_type": "stream",
     "text": [
      "all label found in Todoist\n",
      "all project found in Todoist\n",
      "all section found in Todoist\n"
     ]
    }
   ],
   "source": [
    "# validate entries\n",
    "validate_input_fields(todoist_dict, dfcsv)"
   ]
  },
  {
   "cell_type": "markdown",
   "metadata": {},
   "source": [
    "# For each task"
   ]
  },
  {
   "cell_type": "code",
   "execution_count": 115,
   "metadata": {},
   "outputs": [
    {
     "name": "stdout",
     "output_type": "stream",
     "text": [
      "start date: 2022-08-22 00:00:00\n",
      "end date: 2022-10-02 00:00:00\n",
      "duration (days): 42 days\n"
     ]
    }
   ],
   "source": [
    "# make start and end date timestamp\n",
    "startdate = pd.to_datetime(startdate_string) \n",
    "enddate = startdate + pd.DateOffset(entryduration-1)\n",
    "# report out\n",
    "print(f'start date: {startdate}')\n",
    "print(f'end date: {enddate}')\n",
    "print(f'duration (days): {entryduration} days')"
   ]
  },
  {
   "cell_type": "code",
   "execution_count": 116,
   "metadata": {},
   "outputs": [
    {
     "data": {
      "text/plain": [
       "content                  Allyship meeting\n",
       "duration                               60\n",
       "date                               16-Aug\n",
       "time                                13:00\n",
       "freq_offset                         W-TUE\n",
       "order                                   1\n",
       "days_from_parent                        0\n",
       "weekstart                               0\n",
       "weeknum                                 3\n",
       "recurrent_string    3rd Tues of the month\n",
       "priority                                4\n",
       "project                              Test\n",
       "section                        Work stuff\n",
       "label                            Computer\n",
       "Unnamed: 14                           NaN\n",
       "Unnamed: 15                           NaN\n",
       "Unnamed: 16                           NaN\n",
       "Unnamed: 17                           NaN\n",
       "Unnamed: 18                           NaN\n",
       "Name: 9, dtype: object"
      ]
     },
     "metadata": {},
     "output_type": "display_data"
    },
    {
     "name": "stdout",
     "output_type": "stream",
     "text": [
      "weeknum detected\n",
      "DatetimeIndex(['2022-08-02', '2022-08-09', '2022-08-16', '2022-08-23',\n",
      "               '2022-08-30', '2022-09-06', '2022-09-13', '2022-09-20',\n",
      "               '2022-09-27'],\n",
      "              dtype='datetime64[ns]', freq='W-TUE')\n",
      "[]\n"
     ]
    },
    {
     "data": {
      "text/plain": [
       "0"
      ]
     },
     "execution_count": 116,
     "metadata": {},
     "output_type": "execute_result"
    }
   ],
   "source": [
    "# process each task \n",
    "i = 9 # rotate through each row\n",
    "tasknow = dfcsv.loc[i,:] # get task info\n",
    "display(tasknow) # display task\n",
    "tasknow_df = pd.DataFrame() # start a new dataframe for this task\n",
    "datelist = get_datelist(startdate, enddate, tasknow) # get date list\n",
    "type(datelist)\n",
    "len(datelist) \n",
    "\n",
    "# check if has time, if not, no date+time needed\n"
   ]
  },
  {
   "cell_type": "markdown",
   "metadata": {},
   "source": [
    "## START HERE\n",
    ">> something wrong with the get X week of the month code\n"
   ]
  },
  {
   "cell_type": "code",
   "execution_count": 77,
   "metadata": {},
   "outputs": [
    {
     "name": "stdout",
     "output_type": "stream",
     "text": [
      "DatetimeIndex(['2022-08-03', '2022-08-17'], dtype='datetime64[ns]', freq='2W-WED')\n",
      "[]\n"
     ]
    }
   ],
   "source": [
    "datelist = get_X_weekday_of_month(startdate, enddate, tasknow)\n"
   ]
  },
  {
   "cell_type": "code",
   "execution_count": 72,
   "metadata": {},
   "outputs": [
    {
     "ename": "TypeError",
     "evalue": "object of type 'Timestamp' has no len()",
     "output_type": "error",
     "traceback": [
      "\u001b[0;31m---------------------------------------------------------------------------\u001b[0m",
      "\u001b[0;31mTypeError\u001b[0m                                 Traceback (most recent call last)",
      "\u001b[1;32m/Users/connylin/Code/proj/todoist/todoist_csv4wk.ipynb Cell 21\u001b[0m in \u001b[0;36m<cell line: 1>\u001b[0;34m()\u001b[0m\n\u001b[0;32m----> <a href='vscode-notebook-cell:/Users/connylin/Code/proj/todoist/todoist_csv4wk.ipynb#ch0000046?line=0'>1</a>\u001b[0m \u001b[39mlen\u001b[39;49m(dlist)\n",
      "\u001b[0;31mTypeError\u001b[0m: object of type 'Timestamp' has no len()"
     ]
    }
   ],
   "source": []
  },
  {
   "cell_type": "code",
   "execution_count": 41,
   "metadata": {},
   "outputs": [],
   "source": [
    "d1 = pd.to_datetime(startdate) + pd.offsets.MonthBegin(n=-1)\n",
    "dlist = pd.date_range(d1, enddate, freq=tasknow.freq_offset)\n",
    "dlist = dlist[tasknow.weeknum-1] # 2 because the first value index is 0\n",
    "# dlist\n",
    "# dlist[tasknow.weeknum-1]"
   ]
  },
  {
   "cell_type": "markdown",
   "metadata": {},
   "source": [
    "Continue testing these code\n"
   ]
  },
  {
   "cell_type": "code",
   "execution_count": null,
   "metadata": {},
   "outputs": [],
   "source": [
    "# build recurrent date + time\n",
    "tasknow_df = build_recurrent_datetime(datelist, tasknow_df, tasknow)\n",
    "# add task attributes\n",
    "tasknow_df = add_task_attributes(tasknow, tasknow_df, todoist_dict)\n",
    "tasknow_df\n",
    "# create tasks from list to Todoist\n",
    "create_task_from_tasknow_df(tasknow_df, todoist_api)"
   ]
  },
  {
   "cell_type": "markdown",
   "metadata": {},
   "source": [
    "There are problem with the project id / section id dtypes"
   ]
  }
 ],
 "metadata": {
  "kernelspec": {
   "display_name": "Python 3.8.13 ('Todoist')",
   "language": "python",
   "name": "python3"
  },
  "language_info": {
   "codemirror_mode": {
    "name": "ipython",
    "version": 3
   },
   "file_extension": ".py",
   "mimetype": "text/x-python",
   "name": "python",
   "nbconvert_exporter": "python",
   "pygments_lexer": "ipython3",
   "version": "3.10.4"
  },
  "orig_nbformat": 4,
  "vscode": {
   "interpreter": {
    "hash": "f3433216a67fc827b02982155d829cc9aa50b418113a1611aab43a491120dcfa"
   }
  }
 },
 "nbformat": 4,
 "nbformat_minor": 2
}
