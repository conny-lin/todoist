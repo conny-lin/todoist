{
 "cells": [
  {
   "cell_type": "code",
   "execution_count": 1,
   "metadata": {},
   "outputs": [],
   "source": [
    "# manual inputs\n",
    "testing_status = True\n",
    "# set start and end date\n",
    "startdate_string = '2022-08-22'\n",
    "entryduration = 7*4\n",
    "# create new or not\n",
    "update_Todoist = False"
   ]
  },
  {
   "cell_type": "code",
   "execution_count": 2,
   "metadata": {},
   "outputs": [],
   "source": [
    "# import libaries\n",
    "import os\n",
    "import numpy as np\n",
    "import pandas as pd\n",
    "from todoist_api_python.api import TodoistAPI\n",
    "import datetime"
   ]
  },
  {
   "cell_type": "code",
   "execution_count": 3,
   "metadata": {},
   "outputs": [],
   "source": [
    "# api token file name\n",
    "if testing_status:\n",
    "    todoist_token_fname = 'todoist_api_token_test.txt'\n",
    "    fname_inputcsv = 'todoist-python - Routine-test.csv'\n",
    "    fpath_inputcsv = os.path.join(os.getcwd(), fname_inputcsv)\n",
    "else:\n",
    "    todoist_token_fname = 'todoist_api_token.txt'\n",
    "    fname_inputcsv = 'todoist-python - Routines.csv'\n",
    "    fpath_inputcsv = os.path.join(os.getcwd(), fname_inputcsv)"
   ]
  },
  {
   "cell_type": "markdown",
   "metadata": {},
   "source": [
    "# Functions"
   ]
  },
  {
   "cell_type": "code",
   "execution_count": 4,
   "metadata": {},
   "outputs": [],
   "source": [
    "# creat label dictionary\n",
    "def get_label_dict(todoist_api):\n",
    "    api = TodoistAPI(todoist_api)\n",
    "    try:\n",
    "        labels = api.get_labels()\n",
    "    except Exception as error:\n",
    "        print(error)\n",
    "    # label into dictionary\n",
    "    label_dict = {}\n",
    "    for i in range(len(labels)):\n",
    "        label_dict[labels[i].name] = labels[i].id\n",
    "    return label_dict\n",
    "\n",
    "\n",
    "\n",
    "# creat project id dictionary\n",
    "def get_project_dict(todoist_api):\n",
    "    api = TodoistAPI(todoist_api)\n",
    "    try:\n",
    "        a = api.get_projects()\n",
    "    except Exception as error:\n",
    "        print(error)\n",
    "    # label into dictionary\n",
    "    d = {}\n",
    "    for i in range(len(a)):\n",
    "        d[a[i].name] = a[i].id\n",
    "    return d\n",
    "\n",
    "\n",
    "\n",
    "# creat section id dictionary from a project\n",
    "def get_section_dict_pjc(todoist_api, project_id):\n",
    "    api = TodoistAPI(todoist_api)\n",
    "    try:\n",
    "        a = api.get_sections(project_id=project_id)\n",
    "    except Exception as error:\n",
    "        print(error)\n",
    "    # put into dictionary\n",
    "    d = {}\n",
    "    for i in range(len(a)):\n",
    "        d[a[i].name] = a[i].id\n",
    "    return d\n",
    "\n",
    "\n",
    "\n",
    "# creat section id dictionaries\n",
    "def get_section_dict(todoist_api):\n",
    "    api = TodoistAPI(todoist_api)\n",
    "    try:\n",
    "        todoistpull = api.get_sections()\n",
    "    except Exception as error:\n",
    "        print(error)\n",
    "\n",
    "    # put in dictionaries\n",
    "    section_proj_dict = {}\n",
    "    section_name_dict = {}\n",
    "\n",
    "    for i in range(len(todoistpull)):\n",
    "        section_proj_dict[todoistpull[i].id] = todoistpull[i].project_id\n",
    "        section_name_dict[todoistpull[i].name] = todoistpull[i].id\n",
    "    return section_proj_dict, section_name_dict\n",
    "\n",
    "\n",
    "# get task dictionary by name\n",
    "def get_task_dict(todoist_api):\n",
    "    api = TodoistAPI(todoist_api)\n",
    "    try:\n",
    "        todoistpull = api.get_tasks()\n",
    "    except Exception as error:\n",
    "        print(error)\n",
    "\n",
    "    # put in dictionaries\n",
    "    task_dict = {}\n",
    "    for i in range(len(todoistpull)):\n",
    "        task_dict[todoistpull[i].content] = todoistpull[i].id\n",
    "    return task_dict"
   ]
  },
  {
   "cell_type": "code",
   "execution_count": 5,
   "metadata": {},
   "outputs": [],
   "source": [
    "# -- validation --\n",
    "# this represents a list of current limitations\n",
    "def validate_input_fields(todoist_dict, dfcsv):\n",
    "    \n",
    "    # limitation 1: all label, project, sections must pre-exist in Todoist\n",
    "    fieldname_list = ['label','project','section']\n",
    "    for fieldname in fieldname_list:\n",
    "        entry_exist = []\n",
    "        for x in dfcsv[fieldname].tolist():\n",
    "            entry_exist.append(x in todoist_dict[fieldname].keys())\n",
    "        \n",
    "        if all(entry_exist):\n",
    "            print(f'all {fieldname} found in Todoist')\n",
    "        else:\n",
    "            errormsg = f'Some {fieldname} entry does not exist in Todoist. Current code can not accomodate'\n",
    "            raise Exception(errormsg)\n",
    "    \n",
    "    \n",
    "    # limitation 2: only task level 1 can be handled\n",
    "    if dfcsv.order[0] != 1 or any(dfcsv.order > 1):\n",
    "        raise Exception('order number incorrect')\n",
    "\n",
    "    \n",
    "    # limitation 3: freq_offset must be entered, even for children task that uses days_from_parent as date calculations\n",
    "    if any(dfcsv.freq_offset.isna()):\n",
    "        raise Exception('freq_offset field must not be NaN')\n",
    "\n",
    "\n",
    "    # limitation 4: all task must have time assigned\n",
    "    if any(dfcsv.time.isna()):\n",
    "        raise Exception('time field must not be NaN')\n",
    "\n",
    "    # limitation 5: subtask backwards 27 days max\n",
    "    if any(dfcsv.days_from_parent) < -28:\n",
    "        raise Exception('code can not accomodate subtask backwards 27 days')"
   ]
  },
  {
   "cell_type": "code",
   "execution_count": 45,
   "metadata": {},
   "outputs": [],
   "source": [
    "# deal with X weekday of the month\n",
    "# get first month's third thu and next month's third thu and give the one that's after start date and before end date\n",
    "def get_X_weekday_of_month(startdate, enddate, tasknow):\n",
    "    thedate = []\n",
    "    # get the first month's third thu\n",
    "    d1 = pd.to_datetime(startdate) + pd.offsets.MonthBegin(n=-1)\n",
    "    dlist = pd.date_range(d1, enddate, freq=tasknow.freq_offset)\n",
    "    print(dlist)\n",
    "    if len(dlist) > tasknow.weeknum:\n",
    "        dlist = dlist[tasknow.weeknum-1] # 2 because the first value index is 0\n",
    "        # check if is after start date\n",
    "        if dlist >= startdate:\n",
    "            thedate = dlist\n",
    "    else:\n",
    "        # get the second month's third thu\n",
    "        d2 = pd.to_datetime(startdate) + pd.offsets.MonthBegin(n=1)\n",
    "        dlist = pd.date_range(d2, enddate, freq=tasknow.freq_offset)\n",
    "        dlist = dlist[tasknow.weeknum-1] # 2 because the first value index is 0\n",
    "        if dlist <= enddate:\n",
    "            thedate = dlist\n",
    "        else:\n",
    "            thedate = []\n",
    "            raise Exception('no date within the specified range') \n",
    "    thedate = thedate.to_pydatetime()    \n",
    "    print(thedate)      \n",
    "    return thedate"
   ]
  },
  {
   "cell_type": "code",
   "execution_count": 27,
   "metadata": {},
   "outputs": [],
   "source": [
    "# -- create date list from date requirements requirements --\n",
    "# if weeknum is none, then deal with offset and freq normally\n",
    "def get_datelist(startdate, enddate, tasknow):\n",
    "    if tasknow.weeknum != 0:\n",
    "        print('weeknum detected')\n",
    "        # check if has weeknum off set, if yes, then need other calculation\n",
    "        datelist = get_X_weekday_of_month(startdate, enddate, tasknow)\n",
    "    else:\n",
    "        print('weeknum not detected')\n",
    "        if tasknow.weekstart == 0:\n",
    "            datelist = pd.date_range((startdate), enddate, freq=tasknow.freq_offset)       \n",
    "        elif tasknow.weekstart != 0:\n",
    "            datelist = pd.date_range((startdate + pd.DateOffset(tasknow.weekstart)), enddate, \n",
    "                        freq=tasknow.freq_offset)\n",
    "        else:\n",
    "            raise Exception('weekstart entry invalid')\n",
    "    return datelist"
   ]
  },
  {
   "cell_type": "code",
   "execution_count": 8,
   "metadata": {},
   "outputs": [],
   "source": [
    "# -- build recurrent date + time --\n",
    "def build_recurrent_datetime(datelist, tasknow_df,tasknow):\n",
    "    # build date/time string\n",
    "    datetimestr = []\n",
    "    # convert to datetime format\n",
    "    if type(datelist) is datetime.datetime:\n",
    "        datetimestr.append(datelist.strftime(\"%Y-%m-%d\") + ' ' + tasknow.time)\n",
    "    else:\n",
    "        datelist = datelist.to_pydatetime()\n",
    "        for k in range(len(datelist)):\n",
    "            a = datelist[k].strftime(\"%Y-%m-%d\") + ' ' + tasknow.time\n",
    "            datetimestr.append(a)\n",
    "        \n",
    "    # convert to datetime format\n",
    "    datetimestr = pd.to_datetime(datetimestr)\n",
    "    \n",
    "    # convert to RC3339 format\n",
    "    due_datetime = []\n",
    "    for k in range(len(datetimestr)):\n",
    "        due_datetime.append(datetimestr[k].isoformat('T'))\n",
    "    # interim report \n",
    "    print(f'{len(due_datetime)} dates generated from freq offset \"{tasknow.freq_offset}\"')\n",
    "    # add time series to dataframe\n",
    "    tasknow_df['due_datetime'] = due_datetime\n",
    "    return tasknow_df"
   ]
  },
  {
   "cell_type": "code",
   "execution_count": 9,
   "metadata": {},
   "outputs": [],
   "source": [
    "# add task attributes\n",
    "def add_task_attributes(tasknow, tasknow_df,todoist_dict):\n",
    "    # -- build each task for todoist --\n",
    "    # + duration to content\n",
    "    content = f'{tasknow.content} [{tasknow.duration}m]'\n",
    "    print(f'task name: {content}')\n",
    "    tasknow_df['content'] = content\n",
    "\n",
    "    # -- add the rest of task attributes --\n",
    "    # add priority\n",
    "    tasknow_df['priority'] = tasknow.priority\n",
    "    # get section id\n",
    "    sec_id = todoist_dict['section'][tasknow.section]\n",
    "    # get section id to df\n",
    "    tasknow_df['section_id'] = sec_id\n",
    "    # get project id to df\n",
    "    tasknow_df['project_id'] = todoist_dict['section_project'][sec_id]\n",
    "    # translate label \n",
    "    # <can only take one label at a time, can expand to take multiple later>\n",
    "    tasknow_df['label_ids'] = todoist_dict['label'][tasknow.label]\n",
    "    return tasknow_df\n"
   ]
  },
  {
   "cell_type": "code",
   "execution_count": 10,
   "metadata": {},
   "outputs": [],
   "source": [
    "# create tasks from list to Todoist\n",
    "def create_task_from_tasknow_df(tasknow_df, todoist_api):\n",
    "    for recur_num in range(len(tasknow_df)):\n",
    "        api = TodoistAPI(todoist_api)\n",
    "        try:\n",
    "            task = api.add_task(\n",
    "                    content=tasknow_df.content[recur_num],\n",
    "                    due_lang='en',\n",
    "                    project_id=int(tasknow_df.project_id[recur_num]),\n",
    "                    section_id=int(tasknow_df.section_id[recur_num]),\n",
    "                    due_datetime=tasknow_df.due_datetime[recur_num],\n",
    "                    priority=int(tasknow_df.priority[recur_num]),\n",
    "                    label_ids=[int(tasknow_df.label_ids[recur_num])],\n",
    "            )\n",
    "        except Exception as error:\n",
    "            print(error)"
   ]
  },
  {
   "cell_type": "markdown",
   "metadata": {},
   "source": [
    "Get Todoist API token"
   ]
  },
  {
   "cell_type": "code",
   "execution_count": 11,
   "metadata": {},
   "outputs": [],
   "source": [
    "with open (todoist_token_fname) as f:\n",
    "    todoist_api = f.readlines()\n",
    "    todoist_api = todoist_api[0]"
   ]
  },
  {
   "cell_type": "code",
   "execution_count": 12,
   "metadata": {},
   "outputs": [],
   "source": [
    "# get todoist data\n",
    "label_dict = get_label_dict(todoist_api)\n",
    "proj_dict = get_project_dict(todoist_api)\n",
    "section_proj_dict, section_name_dict = get_section_dict(todoist_api)\n",
    "\n",
    "# make todoist dictionary\n",
    "todoist_dict = {}\n",
    "todoist_dict['label'] = label_dict\n",
    "todoist_dict['project'] = proj_dict\n",
    "todoist_dict['section'] = section_name_dict\n",
    "todoist_dict['section_project'] = section_proj_dict"
   ]
  },
  {
   "cell_type": "markdown",
   "metadata": {},
   "source": [
    "Code"
   ]
  },
  {
   "cell_type": "code",
   "execution_count": 13,
   "metadata": {},
   "outputs": [
    {
     "name": "stdout",
     "output_type": "stream",
     "text": [
      "start date: 2022-08-22 00:00:00\n",
      "end date: 2022-09-18 00:00:00\n",
      "duration (days): 28 days\n"
     ]
    }
   ],
   "source": [
    "# make start and end date timestamp\n",
    "startdate = pd.to_datetime(startdate_string) \n",
    "enddate = startdate + pd.DateOffset(entryduration-1)\n",
    "# report out\n",
    "print(f'start date: {startdate}')\n",
    "print(f'end date: {enddate}')\n",
    "print(f'duration (days): {entryduration} days')"
   ]
  },
  {
   "cell_type": "code",
   "execution_count": 17,
   "metadata": {},
   "outputs": [
    {
     "name": "stdout",
     "output_type": "stream",
     "text": [
      "all label found in Todoist\n",
      "all project found in Todoist\n",
      "all section found in Todoist\n"
     ]
    }
   ],
   "source": [
    "# import csv to deal wtih the data\n",
    "dfcsv = pd.read_csv(fpath_inputcsv)\n",
    "# validate entries\n",
    "validate_input_fields(todoist_dict, dfcsv)\n"
   ]
  },
  {
   "cell_type": "markdown",
   "metadata": {},
   "source": [
    "# For each task"
   ]
  },
  {
   "cell_type": "code",
   "execution_count": 46,
   "metadata": {},
   "outputs": [
    {
     "data": {
      "text/plain": [
       "content                  Allyship meeting\n",
       "duration                               60\n",
       "date                               16-Aug\n",
       "time                                13:00\n",
       "freq_offset                         W-TUE\n",
       "order                                   1\n",
       "days_from_parent                        0\n",
       "weekstart                               0\n",
       "weeknum                                 3\n",
       "recurrent_string    3rd Tues of the month\n",
       "priority                                4\n",
       "project                              Test\n",
       "section                        Work stuff\n",
       "label                            Computer\n",
       "Unnamed: 14                           NaN\n",
       "Unnamed: 15                           NaN\n",
       "Unnamed: 16                           NaN\n",
       "Unnamed: 17                           NaN\n",
       "Unnamed: 18                           NaN\n",
       "Name: 9, dtype: object"
      ]
     },
     "metadata": {},
     "output_type": "display_data"
    },
    {
     "name": "stdout",
     "output_type": "stream",
     "text": [
      "weeknum detected\n"
     ]
    },
    {
     "ename": "AttributeError",
     "evalue": "'list' object has no attribute 'to_pydatetime'",
     "output_type": "error",
     "traceback": [
      "\u001b[0;31m---------------------------------------------------------------------------\u001b[0m",
      "\u001b[0;31mAttributeError\u001b[0m                            Traceback (most recent call last)",
      "\u001b[1;32m/Users/connylin/Code/proj/todoist/todoist_csv4wk.ipynb Cell 19\u001b[0m in \u001b[0;36m<cell line: 12>\u001b[0;34m()\u001b[0m\n\u001b[1;32m      <a href='vscode-notebook-cell:/Users/connylin/Code/proj/todoist/todoist_csv4wk.ipynb#ch0000035?line=8'>9</a>\u001b[0m tasknow_df \u001b[39m=\u001b[39m pd\u001b[39m.\u001b[39mDataFrame()\n\u001b[1;32m     <a href='vscode-notebook-cell:/Users/connylin/Code/proj/todoist/todoist_csv4wk.ipynb#ch0000035?line=10'>11</a>\u001b[0m \u001b[39m# get date list\u001b[39;00m\n\u001b[0;32m---> <a href='vscode-notebook-cell:/Users/connylin/Code/proj/todoist/todoist_csv4wk.ipynb#ch0000035?line=11'>12</a>\u001b[0m datelist \u001b[39m=\u001b[39m get_datelist(startdate, enddate, tasknow)\n\u001b[1;32m     <a href='vscode-notebook-cell:/Users/connylin/Code/proj/todoist/todoist_csv4wk.ipynb#ch0000035?line=12'>13</a>\u001b[0m \u001b[39m# check if has time, if not, no date+time needed\u001b[39;00m\n\u001b[1;32m     <a href='vscode-notebook-cell:/Users/connylin/Code/proj/todoist/todoist_csv4wk.ipynb#ch0000035?line=13'>14</a>\u001b[0m \n\u001b[1;32m     <a href='vscode-notebook-cell:/Users/connylin/Code/proj/todoist/todoist_csv4wk.ipynb#ch0000035?line=14'>15</a>\u001b[0m \u001b[39m# build recurrent date + time\u001b[39;00m\n\u001b[1;32m     <a href='vscode-notebook-cell:/Users/connylin/Code/proj/todoist/todoist_csv4wk.ipynb#ch0000035?line=15'>16</a>\u001b[0m tasknow_df \u001b[39m=\u001b[39m build_recurrent_datetime(datelist, tasknow_df, tasknow)\n",
      "\u001b[1;32m/Users/connylin/Code/proj/todoist/todoist_csv4wk.ipynb Cell 19\u001b[0m in \u001b[0;36mget_datelist\u001b[0;34m(startdate, enddate, tasknow)\u001b[0m\n\u001b[1;32m      <a href='vscode-notebook-cell:/Users/connylin/Code/proj/todoist/todoist_csv4wk.ipynb#ch0000035?line=4'>5</a>\u001b[0m     \u001b[39mprint\u001b[39m(\u001b[39m'\u001b[39m\u001b[39mweeknum detected\u001b[39m\u001b[39m'\u001b[39m)\n\u001b[1;32m      <a href='vscode-notebook-cell:/Users/connylin/Code/proj/todoist/todoist_csv4wk.ipynb#ch0000035?line=5'>6</a>\u001b[0m     \u001b[39m# check if has weeknum off set, if yes, then need other calculation\u001b[39;00m\n\u001b[0;32m----> <a href='vscode-notebook-cell:/Users/connylin/Code/proj/todoist/todoist_csv4wk.ipynb#ch0000035?line=6'>7</a>\u001b[0m     datelist \u001b[39m=\u001b[39m get_X_weekday_of_month(startdate, enddate, tasknow)\n\u001b[1;32m      <a href='vscode-notebook-cell:/Users/connylin/Code/proj/todoist/todoist_csv4wk.ipynb#ch0000035?line=7'>8</a>\u001b[0m \u001b[39melse\u001b[39;00m:\n\u001b[1;32m      <a href='vscode-notebook-cell:/Users/connylin/Code/proj/todoist/todoist_csv4wk.ipynb#ch0000035?line=8'>9</a>\u001b[0m     \u001b[39mprint\u001b[39m(\u001b[39m'\u001b[39m\u001b[39mweeknum not detected\u001b[39m\u001b[39m'\u001b[39m)\n",
      "\u001b[1;32m/Users/connylin/Code/proj/todoist/todoist_csv4wk.ipynb Cell 19\u001b[0m in \u001b[0;36mget_X_weekday_of_month\u001b[0;34m(startdate, enddate, tasknow)\u001b[0m\n\u001b[1;32m     <a href='vscode-notebook-cell:/Users/connylin/Code/proj/todoist/todoist_csv4wk.ipynb#ch0000035?line=20'>21</a>\u001b[0m         thedate \u001b[39m=\u001b[39m []\n\u001b[1;32m     <a href='vscode-notebook-cell:/Users/connylin/Code/proj/todoist/todoist_csv4wk.ipynb#ch0000035?line=21'>22</a>\u001b[0m         \u001b[39mraise\u001b[39;00m \u001b[39mException\u001b[39;00m(\u001b[39m'\u001b[39m\u001b[39mno date within the specified range\u001b[39m\u001b[39m'\u001b[39m) \n\u001b[0;32m---> <a href='vscode-notebook-cell:/Users/connylin/Code/proj/todoist/todoist_csv4wk.ipynb#ch0000035?line=22'>23</a>\u001b[0m thedate \u001b[39m=\u001b[39m thedate\u001b[39m.\u001b[39;49mto_pydatetime()    \n\u001b[1;32m     <a href='vscode-notebook-cell:/Users/connylin/Code/proj/todoist/todoist_csv4wk.ipynb#ch0000035?line=23'>24</a>\u001b[0m \u001b[39mprint\u001b[39m(thedate)      \n\u001b[1;32m     <a href='vscode-notebook-cell:/Users/connylin/Code/proj/todoist/todoist_csv4wk.ipynb#ch0000035?line=24'>25</a>\u001b[0m \u001b[39mreturn\u001b[39;00m thedate\n",
      "\u001b[0;31mAttributeError\u001b[0m: 'list' object has no attribute 'to_pydatetime'"
     ]
    }
   ],
   "source": [
    "# process each task \n",
    "# rotate through each row\n",
    "i = 9\n",
    "# get task info\n",
    "tasknow = dfcsv.loc[i,:]\n",
    "display(tasknow)\n",
    "\n",
    "# start a new dataframe for this task\n",
    "tasknow_df = pd.DataFrame()\n",
    "\n",
    "# get date list\n",
    "datelist = get_datelist(startdate, enddate, tasknow)\n",
    "# check if has time, if not, no date+time needed\n",
    "\n",
    "# build recurrent date + time\n",
    "tasknow_df = build_recurrent_datetime(datelist, tasknow_df, tasknow)\n",
    "# add task attributes\n",
    "tasknow_df = add_task_attributes(tasknow, tasknow_df, todoist_dict)\n",
    "tasknow_df"
   ]
  },
  {
   "cell_type": "code",
   "execution_count": 41,
   "metadata": {},
   "outputs": [],
   "source": [
    "d1 = pd.to_datetime(startdate) + pd.offsets.MonthBegin(n=-1)\n",
    "dlist = pd.date_range(d1, enddate, freq=tasknow.freq_offset)\n",
    "dlist = dlist[tasknow.weeknum-1] # 2 because the first value index is 0\n",
    "# dlist\n",
    "# dlist[tasknow.weeknum-1]"
   ]
  },
  {
   "cell_type": "code",
   "execution_count": null,
   "metadata": {},
   "outputs": [],
   "source": [
    "# create tasks from list to Todoist\n",
    "create_task_from_tasknow_df(tasknow_df, todoist_api)"
   ]
  },
  {
   "cell_type": "markdown",
   "metadata": {},
   "source": [
    "There are problem with the project id / section id dtypes"
   ]
  }
 ],
 "metadata": {
  "kernelspec": {
   "display_name": "Python 3.8.13 ('Todoist')",
   "language": "python",
   "name": "python3"
  },
  "language_info": {
   "codemirror_mode": {
    "name": "ipython",
    "version": 3
   },
   "file_extension": ".py",
   "mimetype": "text/x-python",
   "name": "python",
   "nbconvert_exporter": "python",
   "pygments_lexer": "ipython3",
   "version": "3.10.4"
  },
  "orig_nbformat": 4,
  "vscode": {
   "interpreter": {
    "hash": "f3433216a67fc827b02982155d829cc9aa50b418113a1611aab43a491120dcfa"
   }
  }
 },
 "nbformat": 4,
 "nbformat_minor": 2
}
