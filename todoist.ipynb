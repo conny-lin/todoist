{
 "cells": [
  {
   "cell_type": "markdown",
   "metadata": {},
   "source": [
    "Todoist\n",
    "\n",
    "https://developer.todoist.com/rest/v1/#update-a-task\n",
    "\n",
    "install \n",
    "pip install todoist-api-python\n",
    "\n",
    "must be python 3.8 or higher\n"
   ]
  },
  {
   "cell_type": "code",
   "execution_count": 149,
   "metadata": {},
   "outputs": [],
   "source": [
    "import os\n",
    "import numpy as np\n",
    "import pandas as pd\n",
    "from todoist_api_python.api import TodoistAPI\n",
    "import json\n",
    "import datetime\n"
   ]
  },
  {
   "cell_type": "code",
   "execution_count": 4,
   "metadata": {},
   "outputs": [],
   "source": [
    "# read token\n",
    "fname = 'todoist_api_token.txt'\n",
    "with open (fname) as f:\n",
    "    todoist_api = f.readlines()\n",
    "todoist_api = todoist_api[0]"
   ]
  },
  {
   "cell_type": "code",
   "execution_count": null,
   "metadata": {},
   "outputs": [],
   "source": [
    "api = TodoistAPI(todoist_api)\n",
    "\n",
    "try:\n",
    "    projects = api.get_projects()\n",
    "    print(projects)\n",
    "except Exception as error:\n",
    "    print(error)"
   ]
  },
  {
   "cell_type": "code",
   "execution_count": 7,
   "metadata": {},
   "outputs": [
    {
     "name": "stdout",
     "output_type": "stream",
     "text": [
      "Task(comment_count=0, completed=False, content='Test adding task from python', created='2022-07-24T00:16:27.480301Z', creator=25159017, description='', id=6029698491, project_id=2222925285, section_id=0, priority=1, url='https://todoist.com/showTask?id=6029698491', assignee=None, assigner=0, due=Due(date='2022-07-23', recurring=False, string='today', datetime=None, timezone=None), label_ids=[], order=4, parent_id=None, sync_id=None)\n"
     ]
    }
   ],
   "source": [
    "# test adding tasks\n",
    "api = TodoistAPI(todoist_api)\n",
    "try:\n",
    "    task = api.add_task(\n",
    "        content='Test adding task from python',\n",
    "        due_string='today',\n",
    "        due_lang='en',\n",
    "        priority=1,\n",
    "    )\n",
    "    print(task)\n",
    "except Exception as error:\n",
    "    print(error)"
   ]
  },
  {
   "cell_type": "code",
   "execution_count": 36,
   "metadata": {},
   "outputs": [],
   "source": [
    "# get project id list\n",
    "api = TodoistAPI(todoist_api)\n",
    "try:\n",
    "    projects = api.get_projects()\n",
    "except Exception as error:\n",
    "    print(error)\n",
    "# project id into dictionary\n",
    "projects_dict = {}\n",
    "for i in range(len(projects)):\n",
    "    projects_dict[projects[i].name] = projects[i].id\n"
   ]
  },
  {
   "cell_type": "markdown",
   "metadata": {},
   "source": [
    "Here can add enable google api\n",
    "https://developers.google.com/sheets/api/quickstart/python\n"
   ]
  },
  {
   "cell_type": "code",
   "execution_count": 38,
   "metadata": {},
   "outputs": [],
   "source": [
    "# find todoist tasks with recurrent date and time\n",
    "\n",
    "# get task\n",
    "api = TodoistAPI(todoist_api)\n",
    "try:\n",
    "    tasks = api.get_tasks()\n",
    "except Exception as error:\n",
    "    print(error)"
   ]
  },
  {
   "cell_type": "code",
   "execution_count": 59,
   "metadata": {},
   "outputs": [
    {
     "data": {
      "text/plain": [
       "345"
      ]
     },
     "execution_count": 59,
     "metadata": {},
     "output_type": "execute_result"
    }
   ],
   "source": [
    "\n",
    "# project id into dictionary\n",
    "recurrent_task_list = []\n",
    "recurrent_task_datetime = []\n",
    "for i in range(len(tasks)):\n",
    "    if tasks[i].due:\n",
    "        if tasks[i].due.recurring:\n",
    "            recurrent_task_list.append(tasks[i].id)\n",
    "\n",
    "len(recurrent_task_list)"
   ]
  },
  {
   "cell_type": "markdown",
   "metadata": {},
   "source": [
    "label_ids\n",
    "* Array of Integers\n",
    "* IDs of labels associated with the task."
   ]
  },
  {
   "cell_type": "code",
   "execution_count": 154,
   "metadata": {},
   "outputs": [
    {
     "data": {
      "text/plain": [
       "{'Prepared': 2159777797,\n",
       " 'Planned': 2156248492,\n",
       " 'Blocker': 2160067604,\n",
       " 'Reminder.NotNeeded': 2159836237,\n",
       " 'Reminded': 2157873695,\n",
       " 'Reminded.3days': 2159303616,\n",
       " '_Deadline': 2157316483,\n",
       " '_Deadline.PastDue': 2155612158,\n",
       " '_Meeting.Organizer': 2157518475,\n",
       " '_Meeting.Events': 2160586699,\n",
       " '_Meeting.Presenter': 2159659217,\n",
       " '_Meeting.Discuss': 2159659307,\n",
       " '_Meeting.Attend': 2159659143,\n",
       " '_Meeting.Seminar': 2156481252,\n",
       " '_Meeting.Course': 2159863553,\n",
       " '_Computer': 2153733639,\n",
       " '_Computer.Log.BetterWorks': 2161136075,\n",
       " '_JaaS': 2160330221,\n",
       " '_Confluence': 2160412501,\n",
       " '_Office': 2160771751,\n",
       " '_Device': 2153733636,\n",
       " '_Read': 2156807637,\n",
       " '_Watch': 2157231717,\n",
       " '_Listen': 2159296825,\n",
       " '_Home': 2153733640,\n",
       " '_Project': 2153734096,\n",
       " '_Goal.Sprint': 2157397327,\n",
       " '_Goal.Project': 2160758326,\n",
       " '_Goal.Banked': 2159293296,\n",
       " '_Agenda': 2155914986,\n",
       " '_Agenda.RobBaron': 2159631330,\n",
       " '_Agenda.Daria': 2160079387,\n",
       " '_Agenda.TedLao': 2160249522,\n",
       " '_Agenda.Ariel': 2160260290,\n",
       " '_Agenda.Saman': 2160260293,\n",
       " '_Agenda.JoelGordon': 2160260296,\n",
       " '_Agenda.Guillermo': 2161020874,\n",
       " '_Agenda.RyanAckert': 2160260301,\n",
       " '_Agenda.Jethro': 2160260304,\n",
       " '_Agenda.JennyFreeman': 2160260543,\n",
       " '_Agenda.Mala': 2159755588,\n",
       " '_Agenda.NicoleDalton': 2159755596,\n",
       " '_Agenda.Kana': 2159765899,\n",
       " '_Agenda.ArtSync': 2161135916,\n",
       " '_Agenda.RenderingSync': 2161135925,\n",
       " '_Agenda.Momo': 2157518420,\n",
       " '_Agenda.HirePhDNPO': 2159892061,\n",
       " '_Wait': 2153733648,\n",
       " '_Wait.Delegated': 2157518419,\n",
       " '_Wait.Pending': 2153745225,\n",
       " '_Out': 2153733642,\n",
       " '_Out.Travel': 2153912678,\n",
       " '_Out.Metro.Maintenance': 2155767111,\n",
       " '_Out.Metro': 2153733638,\n",
       " '_Shopping': 2159286275,\n",
       " '_Out.BuyAt.Shoppers': 2159286297,\n",
       " '_Out.BuyAt.Metrotown': 2159286293,\n",
       " '_Out.BuyAt.TandT': 2159286299,\n",
       " '_Out.BuyAt.SaveOn': 2159286327,\n",
       " '_Out.BuyAt.IKEA': 2159286331,\n",
       " '_Device.BuyAt.Sephora': 2159286294,\n",
       " '_Device.BuyAt.Amazon': 2159286316,\n",
       " '_Device.BuyAt.AppleStore': 2159286334,\n",
       " '_Device.BuyAt.Online': 2161099065,\n",
       " '_Idea': 2156384172,\n",
       " '_Cancel': 2153746075,\n",
       " '_Reference': 2156655385,\n",
       " 'Goal.Category.Finance': 2159824117,\n",
       " 'Goal.Category.Career': 2159824123,\n",
       " 'Goal.Category.PersonalGrowth': 2159824130,\n",
       " 'Goal.Category.Community': 2159824131,\n",
       " 'Goal.Category.Health+Beauty': 2159824134,\n",
       " 'Goal.Category.Relationship': 2159824138,\n",
       " 'GCal': 2155701408,\n",
       " 'jaa': 2161218254}"
      ]
     },
     "execution_count": 154,
     "metadata": {},
     "output_type": "execute_result"
    }
   ],
   "source": [
    "# creat label dictionary\n",
    "def get_label_dict(todoist_api):\n",
    "    api = TodoistAPI(todoist_api)\n",
    "    try:\n",
    "        labels = api.get_labels()\n",
    "    except Exception as error:\n",
    "        print(error)\n",
    "    # label into dictionary\n",
    "    label_dict = {}\n",
    "    for i in range(len(labels)):\n",
    "        label_dict[labels[i].name] = labels[i].id\n",
    "    return label_dict\n",
    "\n",
    "label_dict = get_label_dict(todoist_api)\n",
    "label_dict"
   ]
  },
  {
   "cell_type": "code",
   "execution_count": null,
   "metadata": {},
   "outputs": [],
   "source": []
  },
  {
   "cell_type": "markdown",
   "metadata": {},
   "source": [
    "Get recurrent tasks"
   ]
  },
  {
   "cell_type": "code",
   "execution_count": 82,
   "metadata": {},
   "outputs": [
    {
     "data": {
      "text/html": [
       "<div>\n",
       "<style scoped>\n",
       "    .dataframe tbody tr th:only-of-type {\n",
       "        vertical-align: middle;\n",
       "    }\n",
       "\n",
       "    .dataframe tbody tr th {\n",
       "        vertical-align: top;\n",
       "    }\n",
       "\n",
       "    .dataframe thead th {\n",
       "        text-align: right;\n",
       "    }\n",
       "</style>\n",
       "<table border=\"1\" class=\"dataframe\">\n",
       "  <thead>\n",
       "    <tr style=\"text-align: right;\">\n",
       "      <th></th>\n",
       "      <th>id</th>\n",
       "      <th>due_exist</th>\n",
       "      <th>recurrent</th>\n",
       "      <th>string</th>\n",
       "      <th>datetime</th>\n",
       "    </tr>\n",
       "  </thead>\n",
       "  <tbody>\n",
       "    <tr>\n",
       "      <th>0</th>\n",
       "      <td>3557984409</td>\n",
       "      <td>True</td>\n",
       "      <td>True</td>\n",
       "      <td>every day</td>\n",
       "      <td>every day</td>\n",
       "    </tr>\n",
       "    <tr>\n",
       "      <th>1</th>\n",
       "      <td>3557989790</td>\n",
       "      <td>False</td>\n",
       "      <td>False</td>\n",
       "      <td>None</td>\n",
       "      <td>None</td>\n",
       "    </tr>\n",
       "    <tr>\n",
       "      <th>2</th>\n",
       "      <td>3558000864</td>\n",
       "      <td>True</td>\n",
       "      <td>True</td>\n",
       "      <td>every day</td>\n",
       "      <td>every day</td>\n",
       "    </tr>\n",
       "    <tr>\n",
       "      <th>3</th>\n",
       "      <td>3559544883</td>\n",
       "      <td>False</td>\n",
       "      <td>False</td>\n",
       "      <td>None</td>\n",
       "      <td>None</td>\n",
       "    </tr>\n",
       "    <tr>\n",
       "      <th>4</th>\n",
       "      <td>3559544907</td>\n",
       "      <td>False</td>\n",
       "      <td>False</td>\n",
       "      <td>None</td>\n",
       "      <td>None</td>\n",
       "    </tr>\n",
       "    <tr>\n",
       "      <th>...</th>\n",
       "      <td>...</td>\n",
       "      <td>...</td>\n",
       "      <td>...</td>\n",
       "      <td>...</td>\n",
       "      <td>...</td>\n",
       "    </tr>\n",
       "    <tr>\n",
       "      <th>1645</th>\n",
       "      <td>6029649144</td>\n",
       "      <td>True</td>\n",
       "      <td>False</td>\n",
       "      <td>Jul 24</td>\n",
       "      <td>Jul 24</td>\n",
       "    </tr>\n",
       "    <tr>\n",
       "      <th>1646</th>\n",
       "      <td>6029651357</td>\n",
       "      <td>True</td>\n",
       "      <td>False</td>\n",
       "      <td>Jul 29</td>\n",
       "      <td>Jul 29</td>\n",
       "    </tr>\n",
       "    <tr>\n",
       "      <th>1647</th>\n",
       "      <td>6029661843</td>\n",
       "      <td>True</td>\n",
       "      <td>False</td>\n",
       "      <td>Jul 27</td>\n",
       "      <td>Jul 27</td>\n",
       "    </tr>\n",
       "    <tr>\n",
       "      <th>1648</th>\n",
       "      <td>6029697691</td>\n",
       "      <td>True</td>\n",
       "      <td>False</td>\n",
       "      <td>today</td>\n",
       "      <td>today</td>\n",
       "    </tr>\n",
       "    <tr>\n",
       "      <th>1649</th>\n",
       "      <td>6029698491</td>\n",
       "      <td>True</td>\n",
       "      <td>False</td>\n",
       "      <td>today</td>\n",
       "      <td>today</td>\n",
       "    </tr>\n",
       "  </tbody>\n",
       "</table>\n",
       "<p>1650 rows × 5 columns</p>\n",
       "</div>"
      ],
      "text/plain": [
       "              id  due_exist  recurrent     string   datetime\n",
       "0     3557984409       True       True  every day  every day\n",
       "1     3557989790      False      False       None       None\n",
       "2     3558000864       True       True  every day  every day\n",
       "3     3559544883      False      False       None       None\n",
       "4     3559544907      False      False       None       None\n",
       "...          ...        ...        ...        ...        ...\n",
       "1645  6029649144       True      False     Jul 24     Jul 24\n",
       "1646  6029651357       True      False     Jul 29     Jul 29\n",
       "1647  6029661843       True      False     Jul 27     Jul 27\n",
       "1648  6029697691       True      False      today      today\n",
       "1649  6029698491       True      False      today      today\n",
       "\n",
       "[1650 rows x 5 columns]"
      ]
     },
     "execution_count": 82,
     "metadata": {},
     "output_type": "execute_result"
    }
   ],
   "source": [
    "# create dataframe\n",
    "df = pd.DataFrame()\n",
    "\n",
    "# get task id first\n",
    "a = []\n",
    "for i in range(len(tasks)):\n",
    "    a.append(tasks[i].id)\n",
    "df['id'] = a\n",
    "\n",
    "# get has due date or not\n",
    "a = np.zeros((len(tasks),1), dtype=bool)\n",
    "for i in range(len(tasks)):\n",
    "    if tasks[i].due:\n",
    "        a[i] = True\n",
    "df['due_exist'] = a\n",
    "\n",
    "# get recurrent (r), string (b), datetime (c)\n",
    "r = np.zeros((len(tasks),1), dtype=bool)\n",
    "b = np.empty((len(tasks),1), dtype=object)\n",
    "c = b\n",
    "for i in range(len(tasks)):\n",
    "    if tasks[i].due:       \n",
    "        if tasks[i].due.recurring:\n",
    "            r[i] = True\n",
    "        if tasks[i].due.string:\n",
    "            b[i] = tasks[i].due.string\n",
    "        if tasks[i].due.datetime:\n",
    "            c[i] = tasks[i].due.datetime\n",
    "df['recurrent'] = r\n",
    "df['string'] = b\n",
    "df['datetime'] = c\n",
    "\n",
    "# "
   ]
  },
  {
   "cell_type": "markdown",
   "metadata": {},
   "source": [
    "# let's see how to upload csv sheet with more customed task list"
   ]
  },
  {
   "cell_type": "code",
   "execution_count": 97,
   "metadata": {},
   "outputs": [
    {
     "data": {
      "text/plain": [
       "Task(comment_count=0, completed=False, content='\\U0001faa5Brush teeth', created='2019-12-11T07:08:06.000000Z', creator=25159017, description='', id=3557984409, project_id=2230726015, section_id=35780658, priority=1, url='https://todoist.com/showTask?id=3557984409', assignee=None, assigner=0, due=Due(date='2022-07-24', recurring=True, string='every day', datetime=None, timezone=None), label_ids=[2153733640], order=4, parent_id=None, sync_id=None)"
      ]
     },
     "execution_count": 97,
     "metadata": {},
     "output_type": "execute_result"
    }
   ],
   "source": [
    "tasks[0]"
   ]
  },
  {
   "cell_type": "code",
   "execution_count": 99,
   "metadata": {},
   "outputs": [],
   "source": [
    "fname = 'todoist-python.csv'\n",
    "dfcsv = pd.read_csv(fname)"
   ]
  },
  {
   "cell_type": "code",
   "execution_count": 100,
   "metadata": {},
   "outputs": [
    {
     "data": {
      "text/html": [
       "<div>\n",
       "<style scoped>\n",
       "    .dataframe tbody tr th:only-of-type {\n",
       "        vertical-align: middle;\n",
       "    }\n",
       "\n",
       "    .dataframe tbody tr th {\n",
       "        vertical-align: top;\n",
       "    }\n",
       "\n",
       "    .dataframe thead th {\n",
       "        text-align: right;\n",
       "    }\n",
       "</style>\n",
       "<table border=\"1\" class=\"dataframe\">\n",
       "  <thead>\n",
       "    <tr style=\"text-align: right;\">\n",
       "      <th></th>\n",
       "      <th>content</th>\n",
       "      <th>label</th>\n",
       "      <th>duration</th>\n",
       "      <th>time</th>\n",
       "      <th>priority</th>\n",
       "      <th>order</th>\n",
       "      <th>recurrent_string</th>\n",
       "      <th>start_week</th>\n",
       "      <th>days_minus_parent</th>\n",
       "      <th>date</th>\n",
       "    </tr>\n",
       "  </thead>\n",
       "  <tbody>\n",
       "    <tr>\n",
       "      <th>0</th>\n",
       "      <td>Morning Routine</td>\n",
       "      <td>_Home</td>\n",
       "      <td>60</td>\n",
       "      <td>6:00</td>\n",
       "      <td>4</td>\n",
       "      <td>1</td>\n",
       "      <td>weekday</td>\n",
       "      <td>1</td>\n",
       "      <td>NaN</td>\n",
       "      <td>25-Jul</td>\n",
       "    </tr>\n",
       "    <tr>\n",
       "      <th>1</th>\n",
       "      <td>Weekend Beauty Routine</td>\n",
       "      <td>_Home</td>\n",
       "      <td>120</td>\n",
       "      <td>6:00</td>\n",
       "      <td>4</td>\n",
       "      <td>1</td>\n",
       "      <td>weekend</td>\n",
       "      <td>1</td>\n",
       "      <td>NaN</td>\n",
       "      <td>30-Jul</td>\n",
       "    </tr>\n",
       "    <tr>\n",
       "      <th>2</th>\n",
       "      <td>GTD</td>\n",
       "      <td>_Computer</td>\n",
       "      <td>60</td>\n",
       "      <td>7:00</td>\n",
       "      <td>4</td>\n",
       "      <td>1</td>\n",
       "      <td>weekday</td>\n",
       "      <td>1</td>\n",
       "      <td>NaN</td>\n",
       "      <td>25-Jul</td>\n",
       "    </tr>\n",
       "    <tr>\n",
       "      <th>3</th>\n",
       "      <td>GTD Weekend</td>\n",
       "      <td>_Computer</td>\n",
       "      <td>180</td>\n",
       "      <td>8:00</td>\n",
       "      <td>4</td>\n",
       "      <td>1</td>\n",
       "      <td>weekend</td>\n",
       "      <td>1</td>\n",
       "      <td>NaN</td>\n",
       "      <td>30-Jul</td>\n",
       "    </tr>\n",
       "    <tr>\n",
       "      <th>4</th>\n",
       "      <td>GTD sun</td>\n",
       "      <td>_Computer</td>\n",
       "      <td>60</td>\n",
       "      <td>8:00</td>\n",
       "      <td>4</td>\n",
       "      <td>1</td>\n",
       "      <td>weekly</td>\n",
       "      <td>1</td>\n",
       "      <td>NaN</td>\n",
       "      <td>31-Jul</td>\n",
       "    </tr>\n",
       "    <tr>\n",
       "      <th>...</th>\n",
       "      <td>...</td>\n",
       "      <td>...</td>\n",
       "      <td>...</td>\n",
       "      <td>...</td>\n",
       "      <td>...</td>\n",
       "      <td>...</td>\n",
       "      <td>...</td>\n",
       "      <td>...</td>\n",
       "      <td>...</td>\n",
       "      <td>...</td>\n",
       "    </tr>\n",
       "    <tr>\n",
       "      <th>81</th>\n",
       "      <td>Prep Yoga</td>\n",
       "      <td>_Office</td>\n",
       "      <td>10</td>\n",
       "      <td>11:50</td>\n",
       "      <td>4</td>\n",
       "      <td>2</td>\n",
       "      <td>NaN</td>\n",
       "      <td>1</td>\n",
       "      <td>0.0</td>\n",
       "      <td>27-Jul</td>\n",
       "    </tr>\n",
       "    <tr>\n",
       "      <th>82</th>\n",
       "      <td>Airsoft</td>\n",
       "      <td>_Out @Planned</td>\n",
       "      <td>150</td>\n",
       "      <td>19:00</td>\n",
       "      <td>3</td>\n",
       "      <td>1</td>\n",
       "      <td>Sat</td>\n",
       "      <td>1</td>\n",
       "      <td>NaN</td>\n",
       "      <td>30-Jul</td>\n",
       "    </tr>\n",
       "    <tr>\n",
       "      <th>83</th>\n",
       "      <td>Go to Airsoft</td>\n",
       "      <td>_Out.Travel</td>\n",
       "      <td>30</td>\n",
       "      <td>18:30</td>\n",
       "      <td>3</td>\n",
       "      <td>2</td>\n",
       "      <td>NaN</td>\n",
       "      <td>1</td>\n",
       "      <td>0.0</td>\n",
       "      <td>30-Jul</td>\n",
       "    </tr>\n",
       "    <tr>\n",
       "      <th>84</th>\n",
       "      <td>Prep to go to Airsoft</td>\n",
       "      <td>_Home</td>\n",
       "      <td>30</td>\n",
       "      <td>18:00</td>\n",
       "      <td>3</td>\n",
       "      <td>2</td>\n",
       "      <td>NaN</td>\n",
       "      <td>1</td>\n",
       "      <td>0.0</td>\n",
       "      <td>30-Jul</td>\n",
       "    </tr>\n",
       "    <tr>\n",
       "      <th>85</th>\n",
       "      <td>Go home from Airsoft</td>\n",
       "      <td>_Out.Travel</td>\n",
       "      <td>30</td>\n",
       "      <td>21:30</td>\n",
       "      <td>3</td>\n",
       "      <td>2</td>\n",
       "      <td>NaN</td>\n",
       "      <td>1</td>\n",
       "      <td>0.0</td>\n",
       "      <td>30-Jul</td>\n",
       "    </tr>\n",
       "  </tbody>\n",
       "</table>\n",
       "<p>86 rows × 10 columns</p>\n",
       "</div>"
      ],
      "text/plain": [
       "                   content          label  duration   time  priority  order  \\\n",
       "0          Morning Routine          _Home        60   6:00         4      1   \n",
       "1   Weekend Beauty Routine          _Home       120   6:00         4      1   \n",
       "2                      GTD      _Computer        60   7:00         4      1   \n",
       "3              GTD Weekend      _Computer       180   8:00         4      1   \n",
       "4                  GTD sun      _Computer        60   8:00         4      1   \n",
       "..                     ...            ...       ...    ...       ...    ...   \n",
       "81               Prep Yoga        _Office        10  11:50         4      2   \n",
       "82                 Airsoft  _Out @Planned       150  19:00         3      1   \n",
       "83           Go to Airsoft    _Out.Travel        30  18:30         3      2   \n",
       "84   Prep to go to Airsoft          _Home        30  18:00         3      2   \n",
       "85    Go home from Airsoft    _Out.Travel        30  21:30         3      2   \n",
       "\n",
       "   recurrent_string  start_week  days_minus_parent    date  \n",
       "0           weekday           1                NaN  25-Jul  \n",
       "1           weekend           1                NaN  30-Jul  \n",
       "2           weekday           1                NaN  25-Jul  \n",
       "3           weekend           1                NaN  30-Jul  \n",
       "4            weekly           1                NaN  31-Jul  \n",
       "..              ...         ...                ...     ...  \n",
       "81              NaN           1                0.0  27-Jul  \n",
       "82              Sat           1                NaN  30-Jul  \n",
       "83              NaN           1                0.0  30-Jul  \n",
       "84              NaN           1                0.0  30-Jul  \n",
       "85              NaN           1                0.0  30-Jul  \n",
       "\n",
       "[86 rows x 10 columns]"
      ]
     },
     "execution_count": 100,
     "metadata": {},
     "output_type": "execute_result"
    }
   ],
   "source": [
    "dfcsv"
   ]
  },
  {
   "cell_type": "markdown",
   "metadata": {},
   "source": [
    "Pandas frequency\n",
    "https://pandas.pydata.org/docs/user_guide/timeseries.html#timeseries-offset-aliases\n",
    "\n",
    "pd.to_period\n",
    "https://pandas.pydata.org/docs/reference/api/pandas.DatetimeIndex.to_period.html#pandas.DatetimeIndex.to_period\n",
    "\n",
    "pd.DatetimeIndex\n",
    "https://pandas.pydata.org/docs/reference/api/pandas.DatetimeIndex.html"
   ]
  },
  {
   "cell_type": "code",
   "execution_count": 101,
   "metadata": {},
   "outputs": [
    {
     "data": {
      "text/plain": [
       "Timestamp('2022-07-23 19:23:38.734076')"
      ]
     },
     "execution_count": 101,
     "metadata": {},
     "output_type": "execute_result"
    }
   ],
   "source": [
    "pd.Timestamp.today()"
   ]
  },
  {
   "cell_type": "code",
   "execution_count": 102,
   "metadata": {},
   "outputs": [
    {
     "data": {
      "text/plain": [
       "DatetimeIndex(['2022-07-26'], dtype='datetime64[ns]', freq=None)"
      ]
     },
     "execution_count": 102,
     "metadata": {},
     "output_type": "execute_result"
    }
   ],
   "source": [
    "pd.to_datetime(['2022-07-26'])"
   ]
  },
  {
   "cell_type": "code",
   "execution_count": 129,
   "metadata": {},
   "outputs": [
    {
     "data": {
      "text/plain": [
       "DatetimeIndex(['2022-08-22', '2022-08-24', '2022-08-26', '2022-08-30',\n",
       "               '2022-09-01', '2022-09-05', '2022-09-07', '2022-09-09',\n",
       "               '2022-09-13', '2022-09-15', '2022-09-19'],\n",
       "              dtype='datetime64[ns]', freq='2B')"
      ]
     },
     "execution_count": 129,
     "metadata": {},
     "output_type": "execute_result"
    }
   ],
   "source": [
    "startdate = '2022-08-22'\n",
    "enddate = pd.to_datetime(startdate) + pd.DateOffset(7*4)\n",
    "freqcode = '2B'\n",
    "offsetday = 1\n",
    "pd.date_range(startdate, enddate, freq=freqcode)\n"
   ]
  },
  {
   "cell_type": "code",
   "execution_count": 111,
   "metadata": {},
   "outputs": [
    {
     "data": {
      "text/plain": [
       "Timestamp('2022-08-02 00:00:00')"
      ]
     },
     "execution_count": 111,
     "metadata": {},
     "output_type": "execute_result"
    }
   ],
   "source": [
    "# example how to add off set day\n",
    "pd.to_datetime(startdate) + pd.DateOffset(offsetday)"
   ]
  },
  {
   "cell_type": "code",
   "execution_count": 130,
   "metadata": {},
   "outputs": [
    {
     "data": {
      "text/plain": [
       "DatetimeIndex(['2022-08-25', '2022-09-08'], dtype='datetime64[ns]', freq='2W-THU')"
      ]
     },
     "execution_count": 130,
     "metadata": {},
     "output_type": "execute_result"
    }
   ],
   "source": [
    "# every 2nd Thu\n",
    "freqcode = '2W-THU'\n",
    "offsetday = 0\n",
    "pd.date_range((pd.to_datetime(startdate) + pd.DateOffset(offsetday)), enddate, freq=freqcode)"
   ]
  },
  {
   "cell_type": "code",
   "execution_count": 148,
   "metadata": {},
   "outputs": [
    {
     "name": "stdout",
     "output_type": "stream",
     "text": [
      "2022-09-15 00:00:00\n"
     ]
    }
   ],
   "source": [
    "# third thu of the month\n",
    "startdate_string = '2022-08-22'\n",
    "startdate = pd.to_datetime(startdate_string) \n",
    "enddate = startdate + pd.DateOffset(7*4)\n",
    "freqcode = 'W-THU'\n",
    "offsetday = 0\n",
    "weeknum = 3\n",
    "\n",
    "# get first month's third thu and next month's third thu and give the one that's after start date and before end date\n",
    "thedate = []\n",
    "if weeknum > 0: # if there is a week num requirement\n",
    "    # get the first month's third thu\n",
    "    d1 = pd.to_datetime(startdate) + pd.offsets.MonthBegin(n=-1)\n",
    "    datelist = pd.date_range(d1, enddate, freq=freqcode)\n",
    "    datelist = datelist[weeknum-1] # 2 because the first value index is 0\n",
    "    # check if is after start date\n",
    "    if datelist >= startdate:\n",
    "        thedate = datelist\n",
    "    else:\n",
    "        # get the second month's third thu\n",
    "        d2 = pd.to_datetime(startdate) + pd.offsets.MonthBegin(n=1)\n",
    "        datelist = pd.date_range(d2, enddate, freq=freqcode)\n",
    "        datelist = datelist[weeknum-1] # 2 because the first value index is 0\n",
    "        if datelist <= enddate:\n",
    "            thedate = datelist\n",
    "        else:\n",
    "            thedate = []\n",
    "            raise Exception('no date within the specified range')\n",
    "    print(thedate)\n",
    "\n"
   ]
  },
  {
   "cell_type": "markdown",
   "metadata": {},
   "source": [
    "due_datetime\n",
    "\n",
    "RC3339 format\n",
    "https://medium.com/easyread/understanding-about-rfc-3339-for-datetime-formatting-in-software-engineering-940aa5d5f68a"
   ]
  },
  {
   "cell_type": "code",
   "execution_count": null,
   "metadata": {},
   "outputs": [],
   "source": [
    "# convert time\n",
    "datetime.datetime.now()\n",
    "\n",
    "datelist[0].isoformat('T')"
   ]
  },
  {
   "cell_type": "code",
   "execution_count": null,
   "metadata": {},
   "outputs": [],
   "source": []
  }
 ],
 "metadata": {
  "kernelspec": {
   "display_name": "Python 3.8.3 ('rankinlab')",
   "language": "python",
   "name": "python3"
  },
  "language_info": {
   "codemirror_mode": {
    "name": "ipython",
    "version": 3
   },
   "file_extension": ".py",
   "mimetype": "text/x-python",
   "name": "python",
   "nbconvert_exporter": "python",
   "pygments_lexer": "ipython3",
   "version": "3.8.3"
  },
  "orig_nbformat": 4,
  "vscode": {
   "interpreter": {
    "hash": "b7b131a52574a6a472d758362ea8733141b8a67456926c10b6e1bb4937b8598b"
   }
  }
 },
 "nbformat": 4,
 "nbformat_minor": 2
}
